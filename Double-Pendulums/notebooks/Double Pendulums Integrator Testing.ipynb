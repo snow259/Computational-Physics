{
 "cells": [
  {
   "cell_type": "markdown",
   "id": "f5c41abc-10b9-4e87-a997-ae8ac16fdbc9",
   "metadata": {},
   "source": [
    "# Testing Integrators on Double Pendulums"
   ]
  },
  {
   "cell_type": "markdown",
   "id": "a5b49c32-aadf-46a0-91d1-eeab1b136112",
   "metadata": {},
   "source": [
    "## Imports"
   ]
  },
  {
   "cell_type": "code",
   "execution_count": 1,
   "id": "fffbc0c9-6e36-43de-a2b6-33b42c222930",
   "metadata": {},
   "outputs": [],
   "source": [
    "import numpy as np\n",
    "import matplotlib.pyplot as plt"
   ]
  },
  {
   "cell_type": "markdown",
   "id": "85adfbd4-2044-46bc-98fc-af8cbea3022e",
   "metadata": {},
   "source": [
    "## Acceleration Function"
   ]
  },
  {
   "cell_type": "code",
   "execution_count": 2,
   "id": "85920863-9cb2-4d51-a63a-284b121287e7",
   "metadata": {},
   "outputs": [],
   "source": [
    "def acceleration(theta1, omega1, theta2, omega2):\n",
    "    term1 = g * (2*m1 + m2) * np.sin(theta1)\n",
    "    term2 = m2*g*np.sin(theta1 - 2*theta2)\n",
    "    term3 = 2*np.sin(theta1 - theta2) * m2 * (omega2**2 * l2 + omega1**2 * l1 * np.cos(theta1 - theta2))\n",
    "    denominator1 = l1 * (2*m1 + m2 - m2 * np.cos(2*theta1 - 2*theta2))\n",
    "    acc1 = (- term1 - term2 - term3) / denominator1\n",
    "    \n",
    "    term4 = 2 * np.sin(theta1 - theta2)\n",
    "    term5 = (omega1**2 * l1 * (m1 + m2))\n",
    "    term6 = g * (m1 + m2) * np.cos(theta1)\n",
    "    term7 = omega2**2 * l2 * m2 * np.cos(theta1 - theta2)\n",
    "    denominator2 = l2 * (2 * m1 + m2 - m2 * np.cos(2 * theta1 - 2 * theta2))\n",
    "    acc2 = (term4 * (term5 + term6 + term7)) / denominator2\n",
    "    \n",
    "    return acc1, acc2\n",
    "    "
   ]
  },
  {
   "cell_type": "markdown",
   "id": "124eed81-2c10-4b2d-8d87-8751164d0158",
   "metadata": {},
   "source": [
    "## Integrators"
   ]
  },
  {
   "cell_type": "code",
   "execution_count": 3,
   "id": "3b851085-6cbf-44b2-b8a6-639b967da8c8",
   "metadata": {},
   "outputs": [],
   "source": [
    "def euler(theta1, omega1, theta2, omega2, h, t):\n",
    "    acc = acceleration(theta1, omega1, theta2, omega2)\n",
    "    return omega1, acc[0], omega2, acc[1]"
   ]
  },
  {
   "cell_type": "code",
   "execution_count": 4,
   "id": "1c8592ee-08fa-4f41-bfb0-824e70c92e06",
   "metadata": {},
   "outputs": [],
   "source": [
    "def rk4(theta1, omega1, theta2, omega2, h, t):\n",
    "    k1 = euler(theta1, omega1, theta2, omega2, h, t)\n",
    "    k2 = euler(theta1 + 0.5*h*k1[0], omega1 + 0.5*h*k1[1], theta2 + 0.5*h*k1[2], omega2 + 0.5*h*k1[3], h, t + 0.5*h)\n",
    "    k3 = euler(theta1 + 0.5*h*k2[0], omega1 + 0.5*h*k2[1], theta2 + 0.5*h*k2[2], omega2 + 0.5*h*k2[3], h, t + 0.5*h)\n",
    "    k4 = euler(theta1 + h*k3[0], omega1 + h*k3[1], theta2 + h*k3[2], omega2 + h*k3[3], h, t + h)\n",
    "    theta1 = (1 / 6) * (k1[0] + 2*k2[0] + 2*k3[0] + k4[0])\n",
    "    omega1 = (1 / 6) * (k1[1] + 2*k2[1] + 2*k3[1] + k4[1])\n",
    "    theta2 = (1 / 6) * (k1[2] + 2*k2[2] + 2*k3[2] + k4[2])\n",
    "    omega2 = (1 / 6) * (k1[3] + 2*k2[3] + 2*k3[3] + k4[3])\n",
    "    \n",
    "    return theta1, omega1, theta2, omega2, t + h"
   ]
  },
  {
   "cell_type": "markdown",
   "id": "ac1f6479-4184-4357-9d1c-0c35d13dbbd4",
   "metadata": {},
   "source": [
    "## Simulation"
   ]
  },
  {
   "cell_type": "code",
   "execution_count": 22,
   "id": "b6847e35-29bd-4118-ba18-cbc3a9b24da6",
   "metadata": {},
   "outputs": [],
   "source": [
    "def integrate(theta1, omega1, theta2, omega2, h, t0, t1, integrator):\n",
    "    twoPi = 2 * np.pi\n",
    "    \n",
    "    t = t0\n",
    "    theta1s = list()\n",
    "    omega1s = list()\n",
    "    theta2s = list()\n",
    "    omega2s = list()\n",
    "    ts = list()\n",
    "    \n",
    "    theta1s.append(theta1)\n",
    "    omega1s.append(omega1)\n",
    "    theta2s.append(theta2)\n",
    "    omega2s.append(omega2)\n",
    "    ts.append(t)\n",
    "    while t < t1:\n",
    "        state = integrator(theta1, omega1, theta2, omega2, h, t)\n",
    "        theta1 = theta1 + state[0] * h\n",
    "        omega1 = omega1 + state[1] * h\n",
    "        theta2 = theta2 + state[2] * h\n",
    "        omega2 = omega2 + state[3] * h\n",
    "        t = t + h\n",
    "        \n",
    "        if theta1 > twoPi:\n",
    "            theta1 = theta1 - twoPi\n",
    "        elif theta1 < -twoPi:\n",
    "            theta1 = theta1 + twoPi\n",
    "        \n",
    "        if theta2 > twoPi:\n",
    "            theta2 = theta2 - twoPi\n",
    "        elif theta2 < -twoPi:\n",
    "            theta2 = theta2 + twoPi\n",
    "        \n",
    "        theta1s.append(theta1)\n",
    "        omega1s.append(omega1)\n",
    "        theta2s.append(theta2)\n",
    "        omega2s.append(omega2)\n",
    "        ts.append(t)\n",
    "    \n",
    "    states = {\n",
    "        \"theta1s\": np.array(theta1s),\n",
    "        \"omega1s\": np.array(omega1s),\n",
    "        \"theta2s\": np.array(theta2s),\n",
    "        \"omega2s\": np.array(omega2s),\n",
    "        \"ts\": np.array(ts),\n",
    "    }\n",
    "    return states"
   ]
  },
  {
   "cell_type": "code",
   "execution_count": 35,
   "id": "af8b07bb-20bc-46e8-a8b4-56b78c5e175c",
   "metadata": {},
   "outputs": [],
   "source": [
    "def energy(states):\n",
    "    \n",
    "    x1s = l1 * np.sin(states[\"theta1s\"])\n",
    "    y1s = - l1 * np.cos(states[\"theta1s\"])\n",
    "    x2s = l2 * np.sin(states[\"theta2s\"]) + x1s\n",
    "    y2s = - l2 * np.cos(states[\"theta2s\"]) + y1s\n",
    "    \n",
    "#     vx1s = l1 * states[\"omega1s\"] * np.cos(states[\"theta1s\"])\n",
    "#     vy1s = l1 * states[\"omega1s\"] * np.sin(states[\"theta1s\"])\n",
    "#     vx2s = l2 * states[\"omega2s\"] * np.cos(states[\"theta2s\"]) + vx1s\n",
    "#     vy2s = l2 * states[\"omega2s\"] * np.sin(states[\"theta2s\"]) + vy1s\n",
    "\n",
    "    # potentials = m1 * g * y1s + m2 * g * y2s\n",
    "    pendulumBase = l1 + l2\n",
    "    potentials = m1 * g * (pendulumBase + y1s) + m2 * g * (pendulumBase + y2s)\n",
    "    \n",
    "    kinetics = 0.5 * m1 * l1**2 * states[\"omega1s\"]**2 + 0.5 * m2 * (l2**2 * states[\"omega2s\"] + 2 * l1 * l2 * states[\"omega1s\"] * states[\"omega2s\"] * np.cos(states[\"theta1s\"] - states[\"theta2s\"]) + l1**2 * states[\"omega1s\"]**2)\n",
    "    \n",
    "    energies = {\n",
    "        \"potentials\": potentials,\n",
    "        \"kinetics\": kinetics,\n",
    "        \"totals\": potentials + kinetics,\n",
    "    }\n",
    "    \n",
    "    return energies"
   ]
  },
  {
   "cell_type": "code",
   "execution_count": 7,
   "id": "2e5522da-6d63-4b7f-8608-7a69a042e27e",
   "metadata": {},
   "outputs": [],
   "source": [
    "def errors(energies):\n",
    "    print(f'Total energy at t = 0: {energies[\"totals\"][0]} joules')\n",
    "    print(f'Maximum total energy error: {(energies[\"totals\"] - energies[\"totals\"][0]).max()} joules')\n",
    "    print(f'Standard deviation in total energy: {energies[\"totals\"].std()} joules')\n",
    "    print(f'Mean total energy: {energies[\"totals\"].mean()} joules')"
   ]
  },
  {
   "cell_type": "code",
   "execution_count": 8,
   "id": "e4d1b53c-cb5a-46e2-9e67-6038fac20dab",
   "metadata": {},
   "outputs": [],
   "source": [
    "m1 = 10\n",
    "m2 = 10\n",
    "g = 9.81\n",
    "l1 = 100\n",
    "l2 = 100\n",
    "theta1 = 1 * np.pi + 1e-5\n",
    "theta2 = 1 * np.pi\n",
    "omega1 = 0\n",
    "omega2 = 0\n",
    "h = 0.001\n",
    "t = 0"
   ]
  },
  {
   "cell_type": "markdown",
   "id": "f935a14b-f902-4709-8121-b4355e23e5b5",
   "metadata": {},
   "source": [
    "## Testing Euler"
   ]
  },
  {
   "cell_type": "code",
   "execution_count": 36,
   "id": "4532735b-b328-4eae-86f9-721dc42047f3",
   "metadata": {},
   "outputs": [],
   "source": [
    "states = integrate(theta1, omega1, theta2, omega2, h, t, 100, euler)\n",
    "energies = energy(states)"
   ]
  },
  {
   "cell_type": "code",
   "execution_count": 37,
   "id": "07ce3c87-4d43-443d-a32a-e5af67b367f5",
   "metadata": {},
   "outputs": [
    {
     "name": "stdout",
     "output_type": "stream",
     "text": [
      "Total energy at t = 0: 68669.99999901901 joules\n",
      "Maximum total energy error: 12612.12823584782 joules\n",
      "Standard deviation in total energy: 18474.08390554242 joules\n",
      "Mean total energy: 63310.03816406759 joules\n"
     ]
    }
   ],
   "source": [
    "errors(energies)"
   ]
  },
  {
   "cell_type": "markdown",
   "id": "fa61fcf8-ca10-4484-a7a0-c1a42017a50f",
   "metadata": {},
   "source": [
    "## Testing RK4"
   ]
  },
  {
   "cell_type": "code",
   "execution_count": 38,
   "id": "c111d111-fb9b-49fe-a376-212ebfd1e810",
   "metadata": {},
   "outputs": [],
   "source": [
    "states = integrate(theta1, omega1, theta2, omega2, h, t, 100, rk4)\n",
    "energies = energy(states)"
   ]
  },
  {
   "cell_type": "code",
   "execution_count": 39,
   "id": "97ba82f8-c931-475b-a02e-812bd6de57b4",
   "metadata": {},
   "outputs": [
    {
     "name": "stdout",
     "output_type": "stream",
     "text": [
      "Total energy at t = 0: 68669.99999901901 joules\n",
      "Maximum total energy error: 12499.999998406594 joules\n",
      "Standard deviation in total energy: 15364.587639704603 joules\n",
      "Mean total energy: 67715.05405337918 joules\n"
     ]
    }
   ],
   "source": [
    "errors(energies)"
   ]
  }
 ],
 "metadata": {
  "kernelspec": {
   "display_name": "Python 3 (ipykernel)",
   "language": "python",
   "name": "python3"
  },
  "language_info": {
   "codemirror_mode": {
    "name": "ipython",
    "version": 3
   },
   "file_extension": ".py",
   "mimetype": "text/x-python",
   "name": "python",
   "nbconvert_exporter": "python",
   "pygments_lexer": "ipython3",
   "version": "3.9.12"
  }
 },
 "nbformat": 4,
 "nbformat_minor": 5
}
