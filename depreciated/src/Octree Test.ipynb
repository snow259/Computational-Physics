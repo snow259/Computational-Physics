{
 "cells": [
  {
   "cell_type": "markdown",
   "id": "7fc48051",
   "metadata": {},
   "source": [
    "# Octree Test\n",
    "\n",
    "Prototyping an octree implementation"
   ]
  },
  {
   "cell_type": "code",
   "execution_count": 32,
   "id": "4ed0cc56",
   "metadata": {},
   "outputs": [],
   "source": [
    "class octree:\n",
    "    \n",
    "    def __init__(self, center, width, capacity):\n",
    "        self.center = center\n",
    "        self.width = width\n",
    "        # Capacity of a octant\n",
    "        self.capacity = capacity\n",
    "        \n",
    "        self.totalMass = 0\n",
    "        self.com = center\n",
    "        \n",
    "        # Right handed coordinate system\n",
    "        # X axis facing, Y axis to the right, Z axis going up        \n",
    "        self.octants = {\n",
    "            # Front octants\n",
    "            'fTopLeft' : dict('center': , 'width': , 'contents': [], 'totalMass': 0, 'com': ),\n",
    "            'fTopRight' : dict('center': , 'width': , 'contents': [], 'totalMass': 0, 'com': ),\n",
    "            'fBotLeft' : dict('center': , 'width': , 'contents': [], 'totalMass': 0, 'com': ),\n",
    "            'fBotRight' : dict('center': , 'width': , 'contents': [], 'totalMass': 0, 'com': ),\n",
    "            # Rear octants\n",
    "            'rTopLeft' : dict('center': , 'width': , 'contents': [], 'totalMass': 0, 'com': ),\n",
    "            'rTopRight' : dict('center': , 'width': , 'contents': [], 'totalMass': 0, 'com': ),\n",
    "            'rBotLeft' : dict('center': , 'width': , 'contents': [], 'totalMass': 0, 'com': ),\n",
    "            'rBotRight' : dict('center': , 'width': , 'contents' []:, 'totalMass':0 , 'com: ')\n",
    "        }\n",
    "        \n",
    "    def insert(point, mass):\n",
    "        if point[0] <= center[0] + width[0] and point[0] >= center[0]:\n",
    "            # Point lies in front octants\n",
    "            point[1] <= center[1] + width[1] and point[1] >= center[1]:\n",
    "                # Point lies in top octants\n",
    "            else:\n",
    "                # Point lies in bottom octants\n",
    "        else:\n",
    "            # Point lies in rear octants\n",
    "            \n",
    "            "
   ]
  },
  {
   "cell_type": "code",
   "execution_count": 33,
   "id": "e4eac311",
   "metadata": {},
   "outputs": [],
   "source": [
    "center = [0, 0, 0]\n",
    "width = [5, 5, 5]\n",
    "capacity = 1\n",
    "test = octree(center, width, capacity)"
   ]
  },
  {
   "cell_type": "code",
   "execution_count": 34,
   "id": "705e6229",
   "metadata": {},
   "outputs": [
    {
     "data": {
      "text/plain": [
       "{'fTopLeft': {},\n",
       " 'fTopRight': {},\n",
       " 'fBotLeft': {},\n",
       " 'fBotRight': {},\n",
       " 'rTopLeft': {},\n",
       " 'rTopRight': {},\n",
       " 'rBotLeft': {},\n",
       " 'rBotRight': {}}"
      ]
     },
     "execution_count": 34,
     "metadata": {},
     "output_type": "execute_result"
    }
   ],
   "source": [
    "test.octants"
   ]
  }
 ],
 "metadata": {
  "kernelspec": {
   "display_name": "Python 3 (ipykernel)",
   "language": "python",
   "name": "python3"
  },
  "language_info": {
   "codemirror_mode": {
    "name": "ipython",
    "version": 3
   },
   "file_extension": ".py",
   "mimetype": "text/x-python",
   "name": "python",
   "nbconvert_exporter": "python",
   "pygments_lexer": "ipython3",
   "version": "3.9.16"
  }
 },
 "nbformat": 4,
 "nbformat_minor": 5
}
