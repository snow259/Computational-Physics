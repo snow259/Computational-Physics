{
 "cells": [
  {
   "cell_type": "markdown",
   "id": "4707a5b0",
   "metadata": {},
   "source": [
    "# N Body BLAS\n",
    "\n",
    "An attempt at implementing n body acceleration calculations using BLAS"
   ]
  },
  {
   "cell_type": "code",
   "execution_count": 10,
   "id": "a59898e2",
   "metadata": {},
   "outputs": [],
   "source": [
    "import numpy as np\n",
    "import scipy.linalg\n",
    "import timeit\n",
    "import numba"
   ]
  },
  {
   "cell_type": "markdown",
   "id": "b248f87c",
   "metadata": {},
   "source": [
    "## Simulation Constants"
   ]
  },
  {
   "cell_type": "code",
   "execution_count": 2,
   "id": "7006b1ee",
   "metadata": {},
   "outputs": [],
   "source": [
    "# Mass definitions\n",
    "n = 10**3               # Number of bodies in disk\n",
    "mE = 5.9722 * (10**24)  # Mass of Earth\n",
    "rE = 6371.0 * (10**3)   # Radius of Earth\n",
    "mDisk = 90              # Earth masses in disk\n",
    "mass = (mE * mDisk) / n # Mass of single body\n",
    "\n",
    "# Simulation constants\n",
    "G = 6.67430 * (10**-11) # Gravitational constant\n",
    "E = 1 * (10**-5)        # Softening factor (m), smaller when average distances are small"
   ]
  },
  {
   "cell_type": "code",
   "execution_count": 3,
   "id": "6e78d591",
   "metadata": {},
   "outputs": [],
   "source": [
    "rng = np.random.default_rng()\n",
    "\n",
    "masses = np.array([mass] * n)\n",
    "velocities = rng.standard_normal((n, 3))\n",
    "positions = rng.standard_normal((n, 3))"
   ]
  },
  {
   "cell_type": "markdown",
   "id": "ec36d7ba",
   "metadata": {},
   "source": [
    "## Accelerations"
   ]
  },
  {
   "cell_type": "code",
   "execution_count": 11,
   "id": "244f4cab",
   "metadata": {},
   "outputs": [],
   "source": [
    "# From github repo below, with minor modifications\n",
    "\n",
    "@numba.jit()\n",
    "def acc1(positions, masses, G, E):\n",
    "    n = masses.size\n",
    "    x = positions[:, 0:1]\n",
    "    y = positions[:, 1:2]\n",
    "    z = positions[:, 2:3]\n",
    "\n",
    "    dx = x.T - x\n",
    "    dy = y.T - y\n",
    "    dz = z.T - z\n",
    "\n",
    "    rInvCubed = (dx**2 + dy**2 + dz**2 + E**2)**(-1.5)\n",
    "\n",
    "    ax = G * (dx * rInvCubed) @ masses\n",
    "    ay = G * (dy * rInvCubed) @ masses\n",
    "    az = G * (dz * rInvCubed) @ masses\n",
    "\n",
    "    a = np.vstack((ax, ay, az)).T\n",
    "    \n",
    "    return a"
   ]
  },
  {
   "cell_type": "code",
   "execution_count": 14,
   "id": "997dadbc",
   "metadata": {},
   "outputs": [],
   "source": [
    "n = masses.size\n",
    "x = positions[:, 0:1]\n",
    "y = positions[:, 1:2]\n",
    "z = positions[:, 2:3]\n",
    "\n",
    "dx = x.T - x\n",
    "dy = y.T - y\n",
    "dz = z.T - z\n",
    "\n",
    "rInvCubed = (dx**2 + dy**2 + dz**2 + E**2)**(-1.5)\n",
    "\n",
    "ax = G * (dx * rInvCubed) @ masses\n",
    "ay = G * (dy * rInvCubed) @ masses\n",
    "az = G * (dz * rInvCubed) @ masses\n",
    "\n",
    "a = np.vstack((ax, ay, az)).T"
   ]
  },
  {
   "cell_type": "code",
   "execution_count": 16,
   "id": "71c42a11",
   "metadata": {},
   "outputs": [
    {
     "data": {
      "text/plain": [
       "(1000, 1000)"
      ]
     },
     "execution_count": 16,
     "metadata": {},
     "output_type": "execute_result"
    }
   ],
   "source": [
    "dx.shape"
   ]
  },
  {
   "cell_type": "code",
   "execution_count": 41,
   "id": "e698db96",
   "metadata": {},
   "outputs": [
    {
     "name": "stdout",
     "output_type": "stream",
     "text": [
      "21.3 ms ± 1.16 ms per loop (mean ± std. dev. of 7 runs, 10 loops each)\n"
     ]
    }
   ],
   "source": [
    "%timeit dx @ dx"
   ]
  },
  {
   "cell_type": "code",
   "execution_count": 42,
   "id": "3a94977e",
   "metadata": {},
   "outputs": [
    {
     "name": "stdout",
     "output_type": "stream",
     "text": [
      "20.7 ms ± 981 µs per loop (mean ± std. dev. of 7 runs, 10 loops each)\n"
     ]
    }
   ],
   "source": [
    "%timeit scipy.linalg.blas.sgemm(1, dx, dx)"
   ]
  },
  {
   "cell_type": "code",
   "execution_count": 43,
   "id": "eeb4bb24",
   "metadata": {},
   "outputs": [
    {
     "name": "stdout",
     "output_type": "stream",
     "text": [
      "4.87 ms ± 69.3 µs per loop (mean ± std. dev. of 7 runs, 100 loops each)\n"
     ]
    }
   ],
   "source": [
    "%timeit (dx*dx) @ masses"
   ]
  },
  {
   "cell_type": "code",
   "execution_count": 44,
   "id": "ea06802e",
   "metadata": {},
   "outputs": [
    {
     "name": "stdout",
     "output_type": "stream",
     "text": [
      "9.33 ms ± 87.2 µs per loop (mean ± std. dev. of 7 runs, 100 loops each)\n"
     ]
    }
   ],
   "source": [
    "%timeit scipy.linalg.blas.ssymm(1, dx*dx, masses)"
   ]
  },
  {
   "cell_type": "code",
   "execution_count": 54,
   "id": "d79eaaf3",
   "metadata": {},
   "outputs": [
    {
     "name": "stdout",
     "output_type": "stream",
     "text": [
      "4.92 ms ± 168 µs per loop (mean ± std. dev. of 7 runs, 100 loops each)\n"
     ]
    }
   ],
   "source": [
    "%timeit (dx * rInvCubed) @ masses"
   ]
  },
  {
   "cell_type": "code",
   "execution_count": 55,
   "id": "5c1c6be6",
   "metadata": {},
   "outputs": [
    {
     "name": "stdout",
     "output_type": "stream",
     "text": [
      "20.7 ms ± 881 µs per loop (mean ± std. dev. of 7 runs, 10 loops each)\n"
     ]
    }
   ],
   "source": [
    "%timeit scipy.linalg.blas.sgemm(1, scipy.linalg.blas.ssymm(1, rInvCubed, dx), masses)"
   ]
  },
  {
   "cell_type": "code",
   "execution_count": 58,
   "id": "2362c6f7",
   "metadata": {},
   "outputs": [
    {
     "data": {
      "text/plain": [
       "array([[False, False, False, ..., False, False, False],\n",
       "       [False, False, False, ..., False, False, False],\n",
       "       [False, False, False, ..., False, False, False],\n",
       "       ...,\n",
       "       [False, False, False, ..., False, False, False],\n",
       "       [False, False, False, ..., False, False, False],\n",
       "       [False, False, False, ..., False, False, False]])"
      ]
     },
     "execution_count": 58,
     "metadata": {},
     "output_type": "execute_result"
    }
   ],
   "source": [
    "(rInvCubed * dx) == scipy.linalg.blas.ssymm(1, rInvCubed, dx)"
   ]
  },
  {
   "cell_type": "code",
   "execution_count": 52,
   "id": "db055aa7",
   "metadata": {},
   "outputs": [
    {
     "data": {
      "text/plain": [
       "array([[ True,  True,  True, ...,  True,  True,  True],\n",
       "       [ True,  True,  True, ...,  True,  True,  True],\n",
       "       [ True,  True,  True, ...,  True,  True,  True],\n",
       "       ...,\n",
       "       [ True,  True,  True, ...,  True,  True,  True],\n",
       "       [ True,  True,  True, ...,  True,  True,  True],\n",
       "       [ True,  True,  True, ...,  True,  True,  True]])"
      ]
     },
     "execution_count": 52,
     "metadata": {},
     "output_type": "execute_result"
    }
   ],
   "source": [
    "dx.T == -dx"
   ]
  },
  {
   "cell_type": "code",
   "execution_count": 36,
   "id": "d05c4c9c",
   "metadata": {},
   "outputs": [
    {
     "data": {
      "text/plain": [
       "array([[ 0.        , -0.62986302,  1.64152867, ...,  0.06090329,\n",
       "         1.12779764, -0.25096639],\n",
       "       [ 0.62986302,  0.        ,  2.2713917 , ...,  0.69076632,\n",
       "         1.75766066,  0.37889663],\n",
       "       [-1.64152867, -2.2713917 ,  0.        , ..., -1.58062538,\n",
       "        -0.51373104, -1.89249507],\n",
       "       ...,\n",
       "       [-0.06090329, -0.69076632,  1.58062538, ...,  0.        ,\n",
       "         1.06689435, -0.31186968],\n",
       "       [-1.12779764, -1.75766066,  0.51373104, ..., -1.06689435,\n",
       "         0.        , -1.37876403],\n",
       "       [ 0.25096639, -0.37889663,  1.89249507, ...,  0.31186968,\n",
       "         1.37876403,  0.        ]])"
      ]
     },
     "execution_count": 36,
     "metadata": {},
     "output_type": "execute_result"
    }
   ],
   "source": [
    "dx"
   ]
  },
  {
   "cell_type": "code",
   "execution_count": 38,
   "id": "11d93df8",
   "metadata": {},
   "outputs": [
    {
     "data": {
      "text/plain": [
       "array([[1044.58996086, 1017.43347697, 1115.36431225, ..., 1047.21580042,\n",
       "        1093.21484783, 1033.76956889],\n",
       "       [   0.        , 1387.00442257,   54.26961259, ...,  981.69858544,\n",
       "         355.70033335, 1164.68753641],\n",
       "       [   0.        ,    0.        , 3880.75505409, ..., 1217.96465043,\n",
       "        3015.30135995,  692.57538949],\n",
       "       ...,\n",
       "       [   0.        ,    0.        ,    0.        , ..., 1053.55085083,\n",
       "        1164.5272751 , 1021.11072916],\n",
       "       [   0.        ,    0.        ,    0.        , ...,    0.        ,\n",
       "        2413.767245  ,  799.35515067],\n",
       "       [   0.        ,    0.        ,    0.        , ...,    0.        ,\n",
       "           0.        , 1085.93330741]])"
      ]
     },
     "execution_count": 38,
     "metadata": {},
     "output_type": "execute_result"
    }
   ],
   "source": [
    "scipy.linalg.blas.dsyrk(1, dx)"
   ]
  },
  {
   "cell_type": "code",
   "execution_count": 13,
   "id": "8bedd1e6",
   "metadata": {},
   "outputs": [],
   "source": [
    "def acc1blas(positions, masses, G, E):\n",
    "    pass"
   ]
  },
  {
   "cell_type": "markdown",
   "id": "b9477586",
   "metadata": {},
   "source": [
    "## Performance Comparison"
   ]
  },
  {
   "cell_type": "code",
   "execution_count": 12,
   "id": "ef07c2de",
   "metadata": {},
   "outputs": [
    {
     "name": "stdout",
     "output_type": "stream",
     "text": [
      "89.7 ms ± 14.6 ms per loop (mean ± std. dev. of 7 runs, 1 loop each)\n"
     ]
    }
   ],
   "source": [
    "%timeit acc1(positions, masses, G, E)"
   ]
  }
 ],
 "metadata": {
  "kernelspec": {
   "display_name": "Python 3 (ipykernel)",
   "language": "python",
   "name": "python3"
  },
  "language_info": {
   "codemirror_mode": {
    "name": "ipython",
    "version": 3
   },
   "file_extension": ".py",
   "mimetype": "text/x-python",
   "name": "python",
   "nbconvert_exporter": "python",
   "pygments_lexer": "ipython3",
   "version": "3.9.16"
  }
 },
 "nbformat": 4,
 "nbformat_minor": 5
}
