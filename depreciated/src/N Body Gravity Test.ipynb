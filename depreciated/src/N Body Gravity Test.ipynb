{
 "cells": [
  {
   "cell_type": "markdown",
   "id": "b0ae4e64",
   "metadata": {},
   "source": [
    "# N Body Gravity Test\n",
    "\n",
    "Some experiments to figure out the data structures for n body gravity sims"
   ]
  },
  {
   "cell_type": "code",
   "execution_count": 1,
   "id": "59ee2bdc",
   "metadata": {},
   "outputs": [],
   "source": [
    "import numpy as np\n",
    "import matplotlib.pyplot as plt\n",
    "import timeit"
   ]
  },
  {
   "cell_type": "markdown",
   "id": "1a291b70",
   "metadata": {},
   "source": [
    "## Numpy Array Definitions"
   ]
  },
  {
   "cell_type": "code",
   "execution_count": 2,
   "id": "3aafc6ca",
   "metadata": {},
   "outputs": [],
   "source": [
    "# Mass definitions\n",
    "n = 10**3               # Number of bodies in disk\n",
    "mE = 5.9722 * (10**24)  # Mass of Earth\n",
    "rE = 6371.0 * (10**3)   # Radius of Earth\n",
    "mDisk = 90              # Earth masses in disk\n",
    "mass = (mE * mDisk) / n # Mass of single body\n",
    "\n",
    "# Simulation constants\n",
    "G = 6.67430 * (10**-11) # Gravitational constant\n",
    "E = 1 * (10**-5)        # Softening factor (m), smaller when average distances are small"
   ]
  },
  {
   "cell_type": "code",
   "execution_count": 3,
   "id": "f499df87",
   "metadata": {},
   "outputs": [],
   "source": [
    "rng = np.random.default_rng()\n",
    "\n",
    "masses = np.array([mass] * n)\n",
    "velocities = rng.standard_normal((n, 3))\n",
    "positions = rng.standard_normal((n, 3))"
   ]
  },
  {
   "cell_type": "code",
   "execution_count": 4,
   "id": "5bb6a324",
   "metadata": {},
   "outputs": [
    {
     "data": {
      "text/plain": [
       "array([5.37498e+23, 5.37498e+23, 5.37498e+23, 5.37498e+23, 5.37498e+23,\n",
       "       5.37498e+23, 5.37498e+23, 5.37498e+23, 5.37498e+23, 5.37498e+23,\n",
       "       5.37498e+23, 5.37498e+23, 5.37498e+23, 5.37498e+23, 5.37498e+23,\n",
       "       5.37498e+23, 5.37498e+23, 5.37498e+23, 5.37498e+23, 5.37498e+23,\n",
       "       5.37498e+23, 5.37498e+23, 5.37498e+23, 5.37498e+23, 5.37498e+23,\n",
       "       5.37498e+23, 5.37498e+23, 5.37498e+23, 5.37498e+23, 5.37498e+23,\n",
       "       5.37498e+23, 5.37498e+23, 5.37498e+23, 5.37498e+23, 5.37498e+23,\n",
       "       5.37498e+23, 5.37498e+23, 5.37498e+23, 5.37498e+23, 5.37498e+23,\n",
       "       5.37498e+23, 5.37498e+23, 5.37498e+23, 5.37498e+23, 5.37498e+23,\n",
       "       5.37498e+23, 5.37498e+23, 5.37498e+23, 5.37498e+23, 5.37498e+23,\n",
       "       5.37498e+23, 5.37498e+23, 5.37498e+23, 5.37498e+23, 5.37498e+23,\n",
       "       5.37498e+23, 5.37498e+23, 5.37498e+23, 5.37498e+23, 5.37498e+23,\n",
       "       5.37498e+23, 5.37498e+23, 5.37498e+23, 5.37498e+23, 5.37498e+23,\n",
       "       5.37498e+23, 5.37498e+23, 5.37498e+23, 5.37498e+23, 5.37498e+23,\n",
       "       5.37498e+23, 5.37498e+23, 5.37498e+23, 5.37498e+23, 5.37498e+23,\n",
       "       5.37498e+23, 5.37498e+23, 5.37498e+23, 5.37498e+23, 5.37498e+23,\n",
       "       5.37498e+23, 5.37498e+23, 5.37498e+23, 5.37498e+23, 5.37498e+23,\n",
       "       5.37498e+23, 5.37498e+23, 5.37498e+23, 5.37498e+23, 5.37498e+23,\n",
       "       5.37498e+23, 5.37498e+23, 5.37498e+23, 5.37498e+23, 5.37498e+23,\n",
       "       5.37498e+23, 5.37498e+23, 5.37498e+23, 5.37498e+23, 5.37498e+23,\n",
       "       5.37498e+23, 5.37498e+23, 5.37498e+23, 5.37498e+23, 5.37498e+23,\n",
       "       5.37498e+23, 5.37498e+23, 5.37498e+23, 5.37498e+23, 5.37498e+23,\n",
       "       5.37498e+23, 5.37498e+23, 5.37498e+23, 5.37498e+23, 5.37498e+23,\n",
       "       5.37498e+23, 5.37498e+23, 5.37498e+23, 5.37498e+23, 5.37498e+23,\n",
       "       5.37498e+23, 5.37498e+23, 5.37498e+23, 5.37498e+23, 5.37498e+23,\n",
       "       5.37498e+23, 5.37498e+23, 5.37498e+23, 5.37498e+23, 5.37498e+23,\n",
       "       5.37498e+23, 5.37498e+23, 5.37498e+23, 5.37498e+23, 5.37498e+23,\n",
       "       5.37498e+23, 5.37498e+23, 5.37498e+23, 5.37498e+23, 5.37498e+23,\n",
       "       5.37498e+23, 5.37498e+23, 5.37498e+23, 5.37498e+23, 5.37498e+23,\n",
       "       5.37498e+23, 5.37498e+23, 5.37498e+23, 5.37498e+23, 5.37498e+23,\n",
       "       5.37498e+23, 5.37498e+23, 5.37498e+23, 5.37498e+23, 5.37498e+23,\n",
       "       5.37498e+23, 5.37498e+23, 5.37498e+23, 5.37498e+23, 5.37498e+23,\n",
       "       5.37498e+23, 5.37498e+23, 5.37498e+23, 5.37498e+23, 5.37498e+23,\n",
       "       5.37498e+23, 5.37498e+23, 5.37498e+23, 5.37498e+23, 5.37498e+23,\n",
       "       5.37498e+23, 5.37498e+23, 5.37498e+23, 5.37498e+23, 5.37498e+23,\n",
       "       5.37498e+23, 5.37498e+23, 5.37498e+23, 5.37498e+23, 5.37498e+23,\n",
       "       5.37498e+23, 5.37498e+23, 5.37498e+23, 5.37498e+23, 5.37498e+23,\n",
       "       5.37498e+23, 5.37498e+23, 5.37498e+23, 5.37498e+23, 5.37498e+23,\n",
       "       5.37498e+23, 5.37498e+23, 5.37498e+23, 5.37498e+23, 5.37498e+23,\n",
       "       5.37498e+23, 5.37498e+23, 5.37498e+23, 5.37498e+23, 5.37498e+23,\n",
       "       5.37498e+23, 5.37498e+23, 5.37498e+23, 5.37498e+23, 5.37498e+23,\n",
       "       5.37498e+23, 5.37498e+23, 5.37498e+23, 5.37498e+23, 5.37498e+23,\n",
       "       5.37498e+23, 5.37498e+23, 5.37498e+23, 5.37498e+23, 5.37498e+23,\n",
       "       5.37498e+23, 5.37498e+23, 5.37498e+23, 5.37498e+23, 5.37498e+23,\n",
       "       5.37498e+23, 5.37498e+23, 5.37498e+23, 5.37498e+23, 5.37498e+23,\n",
       "       5.37498e+23, 5.37498e+23, 5.37498e+23, 5.37498e+23, 5.37498e+23,\n",
       "       5.37498e+23, 5.37498e+23, 5.37498e+23, 5.37498e+23, 5.37498e+23,\n",
       "       5.37498e+23, 5.37498e+23, 5.37498e+23, 5.37498e+23, 5.37498e+23,\n",
       "       5.37498e+23, 5.37498e+23, 5.37498e+23, 5.37498e+23, 5.37498e+23,\n",
       "       5.37498e+23, 5.37498e+23, 5.37498e+23, 5.37498e+23, 5.37498e+23,\n",
       "       5.37498e+23, 5.37498e+23, 5.37498e+23, 5.37498e+23, 5.37498e+23,\n",
       "       5.37498e+23, 5.37498e+23, 5.37498e+23, 5.37498e+23, 5.37498e+23,\n",
       "       5.37498e+23, 5.37498e+23, 5.37498e+23, 5.37498e+23, 5.37498e+23,\n",
       "       5.37498e+23, 5.37498e+23, 5.37498e+23, 5.37498e+23, 5.37498e+23,\n",
       "       5.37498e+23, 5.37498e+23, 5.37498e+23, 5.37498e+23, 5.37498e+23,\n",
       "       5.37498e+23, 5.37498e+23, 5.37498e+23, 5.37498e+23, 5.37498e+23,\n",
       "       5.37498e+23, 5.37498e+23, 5.37498e+23, 5.37498e+23, 5.37498e+23,\n",
       "       5.37498e+23, 5.37498e+23, 5.37498e+23, 5.37498e+23, 5.37498e+23,\n",
       "       5.37498e+23, 5.37498e+23, 5.37498e+23, 5.37498e+23, 5.37498e+23,\n",
       "       5.37498e+23, 5.37498e+23, 5.37498e+23, 5.37498e+23, 5.37498e+23,\n",
       "       5.37498e+23, 5.37498e+23, 5.37498e+23, 5.37498e+23, 5.37498e+23,\n",
       "       5.37498e+23, 5.37498e+23, 5.37498e+23, 5.37498e+23, 5.37498e+23,\n",
       "       5.37498e+23, 5.37498e+23, 5.37498e+23, 5.37498e+23, 5.37498e+23,\n",
       "       5.37498e+23, 5.37498e+23, 5.37498e+23, 5.37498e+23, 5.37498e+23,\n",
       "       5.37498e+23, 5.37498e+23, 5.37498e+23, 5.37498e+23, 5.37498e+23,\n",
       "       5.37498e+23, 5.37498e+23, 5.37498e+23, 5.37498e+23, 5.37498e+23,\n",
       "       5.37498e+23, 5.37498e+23, 5.37498e+23, 5.37498e+23, 5.37498e+23,\n",
       "       5.37498e+23, 5.37498e+23, 5.37498e+23, 5.37498e+23, 5.37498e+23,\n",
       "       5.37498e+23, 5.37498e+23, 5.37498e+23, 5.37498e+23, 5.37498e+23,\n",
       "       5.37498e+23, 5.37498e+23, 5.37498e+23, 5.37498e+23, 5.37498e+23,\n",
       "       5.37498e+23, 5.37498e+23, 5.37498e+23, 5.37498e+23, 5.37498e+23,\n",
       "       5.37498e+23, 5.37498e+23, 5.37498e+23, 5.37498e+23, 5.37498e+23,\n",
       "       5.37498e+23, 5.37498e+23, 5.37498e+23, 5.37498e+23, 5.37498e+23,\n",
       "       5.37498e+23, 5.37498e+23, 5.37498e+23, 5.37498e+23, 5.37498e+23,\n",
       "       5.37498e+23, 5.37498e+23, 5.37498e+23, 5.37498e+23, 5.37498e+23,\n",
       "       5.37498e+23, 5.37498e+23, 5.37498e+23, 5.37498e+23, 5.37498e+23,\n",
       "       5.37498e+23, 5.37498e+23, 5.37498e+23, 5.37498e+23, 5.37498e+23,\n",
       "       5.37498e+23, 5.37498e+23, 5.37498e+23, 5.37498e+23, 5.37498e+23,\n",
       "       5.37498e+23, 5.37498e+23, 5.37498e+23, 5.37498e+23, 5.37498e+23,\n",
       "       5.37498e+23, 5.37498e+23, 5.37498e+23, 5.37498e+23, 5.37498e+23,\n",
       "       5.37498e+23, 5.37498e+23, 5.37498e+23, 5.37498e+23, 5.37498e+23,\n",
       "       5.37498e+23, 5.37498e+23, 5.37498e+23, 5.37498e+23, 5.37498e+23,\n",
       "       5.37498e+23, 5.37498e+23, 5.37498e+23, 5.37498e+23, 5.37498e+23,\n",
       "       5.37498e+23, 5.37498e+23, 5.37498e+23, 5.37498e+23, 5.37498e+23,\n",
       "       5.37498e+23, 5.37498e+23, 5.37498e+23, 5.37498e+23, 5.37498e+23,\n",
       "       5.37498e+23, 5.37498e+23, 5.37498e+23, 5.37498e+23, 5.37498e+23,\n",
       "       5.37498e+23, 5.37498e+23, 5.37498e+23, 5.37498e+23, 5.37498e+23,\n",
       "       5.37498e+23, 5.37498e+23, 5.37498e+23, 5.37498e+23, 5.37498e+23,\n",
       "       5.37498e+23, 5.37498e+23, 5.37498e+23, 5.37498e+23, 5.37498e+23,\n",
       "       5.37498e+23, 5.37498e+23, 5.37498e+23, 5.37498e+23, 5.37498e+23,\n",
       "       5.37498e+23, 5.37498e+23, 5.37498e+23, 5.37498e+23, 5.37498e+23,\n",
       "       5.37498e+23, 5.37498e+23, 5.37498e+23, 5.37498e+23, 5.37498e+23,\n",
       "       5.37498e+23, 5.37498e+23, 5.37498e+23, 5.37498e+23, 5.37498e+23,\n",
       "       5.37498e+23, 5.37498e+23, 5.37498e+23, 5.37498e+23, 5.37498e+23,\n",
       "       5.37498e+23, 5.37498e+23, 5.37498e+23, 5.37498e+23, 5.37498e+23,\n",
       "       5.37498e+23, 5.37498e+23, 5.37498e+23, 5.37498e+23, 5.37498e+23,\n",
       "       5.37498e+23, 5.37498e+23, 5.37498e+23, 5.37498e+23, 5.37498e+23,\n",
       "       5.37498e+23, 5.37498e+23, 5.37498e+23, 5.37498e+23, 5.37498e+23,\n",
       "       5.37498e+23, 5.37498e+23, 5.37498e+23, 5.37498e+23, 5.37498e+23,\n",
       "       5.37498e+23, 5.37498e+23, 5.37498e+23, 5.37498e+23, 5.37498e+23,\n",
       "       5.37498e+23, 5.37498e+23, 5.37498e+23, 5.37498e+23, 5.37498e+23,\n",
       "       5.37498e+23, 5.37498e+23, 5.37498e+23, 5.37498e+23, 5.37498e+23,\n",
       "       5.37498e+23, 5.37498e+23, 5.37498e+23, 5.37498e+23, 5.37498e+23,\n",
       "       5.37498e+23, 5.37498e+23, 5.37498e+23, 5.37498e+23, 5.37498e+23,\n",
       "       5.37498e+23, 5.37498e+23, 5.37498e+23, 5.37498e+23, 5.37498e+23,\n",
       "       5.37498e+23, 5.37498e+23, 5.37498e+23, 5.37498e+23, 5.37498e+23,\n",
       "       5.37498e+23, 5.37498e+23, 5.37498e+23, 5.37498e+23, 5.37498e+23,\n",
       "       5.37498e+23, 5.37498e+23, 5.37498e+23, 5.37498e+23, 5.37498e+23,\n",
       "       5.37498e+23, 5.37498e+23, 5.37498e+23, 5.37498e+23, 5.37498e+23,\n",
       "       5.37498e+23, 5.37498e+23, 5.37498e+23, 5.37498e+23, 5.37498e+23,\n",
       "       5.37498e+23, 5.37498e+23, 5.37498e+23, 5.37498e+23, 5.37498e+23,\n",
       "       5.37498e+23, 5.37498e+23, 5.37498e+23, 5.37498e+23, 5.37498e+23,\n",
       "       5.37498e+23, 5.37498e+23, 5.37498e+23, 5.37498e+23, 5.37498e+23,\n",
       "       5.37498e+23, 5.37498e+23, 5.37498e+23, 5.37498e+23, 5.37498e+23,\n",
       "       5.37498e+23, 5.37498e+23, 5.37498e+23, 5.37498e+23, 5.37498e+23,\n",
       "       5.37498e+23, 5.37498e+23, 5.37498e+23, 5.37498e+23, 5.37498e+23,\n",
       "       5.37498e+23, 5.37498e+23, 5.37498e+23, 5.37498e+23, 5.37498e+23,\n",
       "       5.37498e+23, 5.37498e+23, 5.37498e+23, 5.37498e+23, 5.37498e+23,\n",
       "       5.37498e+23, 5.37498e+23, 5.37498e+23, 5.37498e+23, 5.37498e+23,\n",
       "       5.37498e+23, 5.37498e+23, 5.37498e+23, 5.37498e+23, 5.37498e+23,\n",
       "       5.37498e+23, 5.37498e+23, 5.37498e+23, 5.37498e+23, 5.37498e+23,\n",
       "       5.37498e+23, 5.37498e+23, 5.37498e+23, 5.37498e+23, 5.37498e+23,\n",
       "       5.37498e+23, 5.37498e+23, 5.37498e+23, 5.37498e+23, 5.37498e+23,\n",
       "       5.37498e+23, 5.37498e+23, 5.37498e+23, 5.37498e+23, 5.37498e+23,\n",
       "       5.37498e+23, 5.37498e+23, 5.37498e+23, 5.37498e+23, 5.37498e+23,\n",
       "       5.37498e+23, 5.37498e+23, 5.37498e+23, 5.37498e+23, 5.37498e+23,\n",
       "       5.37498e+23, 5.37498e+23, 5.37498e+23, 5.37498e+23, 5.37498e+23,\n",
       "       5.37498e+23, 5.37498e+23, 5.37498e+23, 5.37498e+23, 5.37498e+23,\n",
       "       5.37498e+23, 5.37498e+23, 5.37498e+23, 5.37498e+23, 5.37498e+23,\n",
       "       5.37498e+23, 5.37498e+23, 5.37498e+23, 5.37498e+23, 5.37498e+23,\n",
       "       5.37498e+23, 5.37498e+23, 5.37498e+23, 5.37498e+23, 5.37498e+23,\n",
       "       5.37498e+23, 5.37498e+23, 5.37498e+23, 5.37498e+23, 5.37498e+23,\n",
       "       5.37498e+23, 5.37498e+23, 5.37498e+23, 5.37498e+23, 5.37498e+23,\n",
       "       5.37498e+23, 5.37498e+23, 5.37498e+23, 5.37498e+23, 5.37498e+23,\n",
       "       5.37498e+23, 5.37498e+23, 5.37498e+23, 5.37498e+23, 5.37498e+23,\n",
       "       5.37498e+23, 5.37498e+23, 5.37498e+23, 5.37498e+23, 5.37498e+23,\n",
       "       5.37498e+23, 5.37498e+23, 5.37498e+23, 5.37498e+23, 5.37498e+23,\n",
       "       5.37498e+23, 5.37498e+23, 5.37498e+23, 5.37498e+23, 5.37498e+23,\n",
       "       5.37498e+23, 5.37498e+23, 5.37498e+23, 5.37498e+23, 5.37498e+23,\n",
       "       5.37498e+23, 5.37498e+23, 5.37498e+23, 5.37498e+23, 5.37498e+23,\n",
       "       5.37498e+23, 5.37498e+23, 5.37498e+23, 5.37498e+23, 5.37498e+23,\n",
       "       5.37498e+23, 5.37498e+23, 5.37498e+23, 5.37498e+23, 5.37498e+23,\n",
       "       5.37498e+23, 5.37498e+23, 5.37498e+23, 5.37498e+23, 5.37498e+23,\n",
       "       5.37498e+23, 5.37498e+23, 5.37498e+23, 5.37498e+23, 5.37498e+23,\n",
       "       5.37498e+23, 5.37498e+23, 5.37498e+23, 5.37498e+23, 5.37498e+23,\n",
       "       5.37498e+23, 5.37498e+23, 5.37498e+23, 5.37498e+23, 5.37498e+23,\n",
       "       5.37498e+23, 5.37498e+23, 5.37498e+23, 5.37498e+23, 5.37498e+23,\n",
       "       5.37498e+23, 5.37498e+23, 5.37498e+23, 5.37498e+23, 5.37498e+23,\n",
       "       5.37498e+23, 5.37498e+23, 5.37498e+23, 5.37498e+23, 5.37498e+23,\n",
       "       5.37498e+23, 5.37498e+23, 5.37498e+23, 5.37498e+23, 5.37498e+23,\n",
       "       5.37498e+23, 5.37498e+23, 5.37498e+23, 5.37498e+23, 5.37498e+23,\n",
       "       5.37498e+23, 5.37498e+23, 5.37498e+23, 5.37498e+23, 5.37498e+23,\n",
       "       5.37498e+23, 5.37498e+23, 5.37498e+23, 5.37498e+23, 5.37498e+23,\n",
       "       5.37498e+23, 5.37498e+23, 5.37498e+23, 5.37498e+23, 5.37498e+23,\n",
       "       5.37498e+23, 5.37498e+23, 5.37498e+23, 5.37498e+23, 5.37498e+23,\n",
       "       5.37498e+23, 5.37498e+23, 5.37498e+23, 5.37498e+23, 5.37498e+23,\n",
       "       5.37498e+23, 5.37498e+23, 5.37498e+23, 5.37498e+23, 5.37498e+23,\n",
       "       5.37498e+23, 5.37498e+23, 5.37498e+23, 5.37498e+23, 5.37498e+23,\n",
       "       5.37498e+23, 5.37498e+23, 5.37498e+23, 5.37498e+23, 5.37498e+23,\n",
       "       5.37498e+23, 5.37498e+23, 5.37498e+23, 5.37498e+23, 5.37498e+23,\n",
       "       5.37498e+23, 5.37498e+23, 5.37498e+23, 5.37498e+23, 5.37498e+23,\n",
       "       5.37498e+23, 5.37498e+23, 5.37498e+23, 5.37498e+23, 5.37498e+23,\n",
       "       5.37498e+23, 5.37498e+23, 5.37498e+23, 5.37498e+23, 5.37498e+23,\n",
       "       5.37498e+23, 5.37498e+23, 5.37498e+23, 5.37498e+23, 5.37498e+23,\n",
       "       5.37498e+23, 5.37498e+23, 5.37498e+23, 5.37498e+23, 5.37498e+23,\n",
       "       5.37498e+23, 5.37498e+23, 5.37498e+23, 5.37498e+23, 5.37498e+23,\n",
       "       5.37498e+23, 5.37498e+23, 5.37498e+23, 5.37498e+23, 5.37498e+23,\n",
       "       5.37498e+23, 5.37498e+23, 5.37498e+23, 5.37498e+23, 5.37498e+23,\n",
       "       5.37498e+23, 5.37498e+23, 5.37498e+23, 5.37498e+23, 5.37498e+23,\n",
       "       5.37498e+23, 5.37498e+23, 5.37498e+23, 5.37498e+23, 5.37498e+23,\n",
       "       5.37498e+23, 5.37498e+23, 5.37498e+23, 5.37498e+23, 5.37498e+23,\n",
       "       5.37498e+23, 5.37498e+23, 5.37498e+23, 5.37498e+23, 5.37498e+23,\n",
       "       5.37498e+23, 5.37498e+23, 5.37498e+23, 5.37498e+23, 5.37498e+23,\n",
       "       5.37498e+23, 5.37498e+23, 5.37498e+23, 5.37498e+23, 5.37498e+23,\n",
       "       5.37498e+23, 5.37498e+23, 5.37498e+23, 5.37498e+23, 5.37498e+23,\n",
       "       5.37498e+23, 5.37498e+23, 5.37498e+23, 5.37498e+23, 5.37498e+23,\n",
       "       5.37498e+23, 5.37498e+23, 5.37498e+23, 5.37498e+23, 5.37498e+23,\n",
       "       5.37498e+23, 5.37498e+23, 5.37498e+23, 5.37498e+23, 5.37498e+23,\n",
       "       5.37498e+23, 5.37498e+23, 5.37498e+23, 5.37498e+23, 5.37498e+23,\n",
       "       5.37498e+23, 5.37498e+23, 5.37498e+23, 5.37498e+23, 5.37498e+23,\n",
       "       5.37498e+23, 5.37498e+23, 5.37498e+23, 5.37498e+23, 5.37498e+23,\n",
       "       5.37498e+23, 5.37498e+23, 5.37498e+23, 5.37498e+23, 5.37498e+23,\n",
       "       5.37498e+23, 5.37498e+23, 5.37498e+23, 5.37498e+23, 5.37498e+23,\n",
       "       5.37498e+23, 5.37498e+23, 5.37498e+23, 5.37498e+23, 5.37498e+23,\n",
       "       5.37498e+23, 5.37498e+23, 5.37498e+23, 5.37498e+23, 5.37498e+23,\n",
       "       5.37498e+23, 5.37498e+23, 5.37498e+23, 5.37498e+23, 5.37498e+23,\n",
       "       5.37498e+23, 5.37498e+23, 5.37498e+23, 5.37498e+23, 5.37498e+23,\n",
       "       5.37498e+23, 5.37498e+23, 5.37498e+23, 5.37498e+23, 5.37498e+23,\n",
       "       5.37498e+23, 5.37498e+23, 5.37498e+23, 5.37498e+23, 5.37498e+23,\n",
       "       5.37498e+23, 5.37498e+23, 5.37498e+23, 5.37498e+23, 5.37498e+23,\n",
       "       5.37498e+23, 5.37498e+23, 5.37498e+23, 5.37498e+23, 5.37498e+23,\n",
       "       5.37498e+23, 5.37498e+23, 5.37498e+23, 5.37498e+23, 5.37498e+23,\n",
       "       5.37498e+23, 5.37498e+23, 5.37498e+23, 5.37498e+23, 5.37498e+23,\n",
       "       5.37498e+23, 5.37498e+23, 5.37498e+23, 5.37498e+23, 5.37498e+23,\n",
       "       5.37498e+23, 5.37498e+23, 5.37498e+23, 5.37498e+23, 5.37498e+23,\n",
       "       5.37498e+23, 5.37498e+23, 5.37498e+23, 5.37498e+23, 5.37498e+23,\n",
       "       5.37498e+23, 5.37498e+23, 5.37498e+23, 5.37498e+23, 5.37498e+23,\n",
       "       5.37498e+23, 5.37498e+23, 5.37498e+23, 5.37498e+23, 5.37498e+23,\n",
       "       5.37498e+23, 5.37498e+23, 5.37498e+23, 5.37498e+23, 5.37498e+23,\n",
       "       5.37498e+23, 5.37498e+23, 5.37498e+23, 5.37498e+23, 5.37498e+23])"
      ]
     },
     "execution_count": 4,
     "metadata": {},
     "output_type": "execute_result"
    }
   ],
   "source": [
    "masses"
   ]
  },
  {
   "cell_type": "code",
   "execution_count": 5,
   "id": "68374361",
   "metadata": {},
   "outputs": [
    {
     "data": {
      "text/plain": [
       "array([[-0.08591575, -0.32754445,  0.49561605],\n",
       "       [ 1.57221933,  2.05129058, -1.21922862],\n",
       "       [ 1.97928968, -0.20138711,  1.38289044],\n",
       "       ...,\n",
       "       [-0.17091514, -1.30486624,  0.56438607],\n",
       "       [-0.89573442, -1.14291246,  0.2659104 ],\n",
       "       [ 0.5735328 , -0.65770716, -0.04500851]])"
      ]
     },
     "execution_count": 5,
     "metadata": {},
     "output_type": "execute_result"
    }
   ],
   "source": [
    "velocities"
   ]
  },
  {
   "cell_type": "code",
   "execution_count": 6,
   "id": "d2720fdc",
   "metadata": {},
   "outputs": [
    {
     "data": {
      "text/plain": [
       "array([[ 0.4607998 ,  0.1552256 , -1.11622677],\n",
       "       [-0.3634172 ,  0.91983783, -1.85344464],\n",
       "       [ 1.22226974, -0.37953245,  0.97380452],\n",
       "       ...,\n",
       "       [-0.14611701,  0.16271207,  1.78290236],\n",
       "       [-0.7856306 , -1.63669791,  0.40927822],\n",
       "       [-0.72954651,  1.36449166, -0.17962005]])"
      ]
     },
     "execution_count": 6,
     "metadata": {},
     "output_type": "execute_result"
    }
   ],
   "source": [
    "positions"
   ]
  },
  {
   "cell_type": "code",
   "execution_count": 7,
   "id": "ec721941",
   "metadata": {},
   "outputs": [
    {
     "data": {
      "text/plain": [
       "dtype('float64')"
      ]
     },
     "execution_count": 7,
     "metadata": {},
     "output_type": "execute_result"
    }
   ],
   "source": [
    "positions.dtype"
   ]
  },
  {
   "cell_type": "markdown",
   "id": "2925451a",
   "metadata": {},
   "source": [
    "## Array Memory Usage"
   ]
  },
  {
   "cell_type": "code",
   "execution_count": 8,
   "id": "5590751d",
   "metadata": {},
   "outputs": [],
   "source": [
    "bit32Mem = np.array(1.0, dtype = 'float32').nbytes\n",
    "bit64Mem = np.array(1.0, dtype = 'float64').nbytes"
   ]
  },
  {
   "cell_type": "code",
   "execution_count": 9,
   "id": "2de74818",
   "metadata": {},
   "outputs": [
    {
     "name": "stdout",
     "output_type": "stream",
     "text": [
      "32 bit: 28 B per object    4 B per value\n",
      "64 bit: 56 B per object    8 B per value\n"
     ]
    }
   ],
   "source": [
    "print(f'32 bit: {bit32Mem * 7} B per object    {bit32Mem} B per value')\n",
    "print(f'64 bit: {bit64Mem * 7} B per object    {bit64Mem} B per value')"
   ]
  },
  {
   "cell_type": "code",
   "execution_count": 10,
   "id": "047c7174",
   "metadata": {},
   "outputs": [],
   "source": [
    "mBytes = masses.nbytes\n",
    "vBytes = velocities.nbytes\n",
    "pBytes = positions.nbytes"
   ]
  },
  {
   "cell_type": "code",
   "execution_count": 11,
   "id": "a2a7e5c5",
   "metadata": {},
   "outputs": [
    {
     "name": "stdout",
     "output_type": "stream",
     "text": [
      "Mass: 7.8125 KB\n",
      "Velocity: 23.4375 KB\n",
      "Position: 23.4375 KB\n",
      "Total: 54.6875 KB\n"
     ]
    }
   ],
   "source": [
    "print(f'Mass: {mBytes / 1024} KB')\n",
    "print(f'Velocity: {vBytes / 1024} KB')\n",
    "print(f'Position: {pBytes / 1024} KB')\n",
    "print(f'Total: {(vBytes + pBytes + mBytes) / 1024} KB')"
   ]
  },
  {
   "cell_type": "markdown",
   "id": "7b8ec4f9",
   "metadata": {},
   "source": [
    "## Find Acceleration"
   ]
  },
  {
   "cell_type": "code",
   "execution_count": 12,
   "id": "5420d70e",
   "metadata": {},
   "outputs": [],
   "source": [
    "import numba\n",
    "from numba import njit"
   ]
  },
  {
   "cell_type": "code",
   "execution_count": 13,
   "id": "bb2e21c2",
   "metadata": {},
   "outputs": [],
   "source": [
    "# From github repo below, with minor modifications\n",
    "\n",
    "def acc1(positions, masses, G, E):\n",
    "    n = masses.size\n",
    "    x = positions[:, 0:1]\n",
    "    y = positions[:, 1:2]\n",
    "    z = positions[:, 2:3]\n",
    "\n",
    "    dx = x.T - x\n",
    "    dy = y.T - y\n",
    "    dz = z.T - z\n",
    "\n",
    "    rInvCubed = (dx**2 + dy**2 + dz**2 + E**2)**(-1.5)\n",
    "\n",
    "    ax = G * (dx * rInvCubed) @ masses\n",
    "    ay = G * (dy * rInvCubed) @ masses\n",
    "    az = G * (dz * rInvCubed) @ masses\n",
    "\n",
    "    a = np.vstack((ax, ay, az)).T\n",
    "    \n",
    "    return a"
   ]
  },
  {
   "cell_type": "code",
   "execution_count": 14,
   "id": "87bdc791",
   "metadata": {},
   "outputs": [],
   "source": [
    "@numba.jit()\n",
    "def acc1numba(positions, masses, G, E):\n",
    "    n = masses.size\n",
    "    x = positions[:, 0:1]\n",
    "    y = positions[:, 1:2]\n",
    "    z = positions[:, 2:3]\n",
    "\n",
    "    dx = x.T - x\n",
    "    dy = y.T - y\n",
    "    dz = z.T - z\n",
    "\n",
    "    rInvCubed = (dx**2 + dy**2 + dz**2 + E**2)**(-1.5)\n",
    "\n",
    "    ax = G * (dx * rInvCubed) @ masses\n",
    "    ay = G * (dy * rInvCubed) @ masses\n",
    "    az = G * (dz * rInvCubed) @ masses\n",
    "\n",
    "    a = np.vstack((ax, ay, az)).T\n",
    "    \n",
    "    return a"
   ]
  },
  {
   "cell_type": "code",
   "execution_count": 15,
   "id": "35b2c5b9",
   "metadata": {},
   "outputs": [],
   "source": [
    "def acc1blas(positions, masses, G, E):\n",
    "    n = masses.size\n",
    "    x = positions[:, 0:1]\n",
    "    y = positions[:, 1:2]\n",
    "    z = positions[:, 2:3]\n",
    "\n",
    "    dx = x.T - x\n",
    "    dy = y.T - y\n",
    "    dz = z.T - z\n",
    "\n",
    "    rInvCubed = (dx**2 + dy**2 + dz**2 + E**2)**(-1.5)\n",
    "\n",
    "    ax = G * (dx * rInvCubed) @ masses\n",
    "    ay = G * (dy * rInvCubed) @ masses\n",
    "    az = G * (dz * rInvCubed) @ masses\n",
    "\n",
    "    a = np.vstack((ax, ay, az)).T\n",
    "    \n",
    "    return a"
   ]
  },
  {
   "cell_type": "code",
   "execution_count": 16,
   "id": "472b114a",
   "metadata": {},
   "outputs": [],
   "source": [
    "import itertools\n",
    "from scipy.linalg.blas import zhpr, dspr2, zhpmv\n",
    "\n",
    "def acc2(positions, masses, G, E):\n",
    "    n = masses.size\n",
    "    # trick: use complex Hermitian to get the packed anti-symmetric\n",
    "    # outer difference in the imaginary part of the zhpr answer\n",
    "    # don't want to sum over dimensions yet, therefore must do them one-by-one\n",
    "    trck = np.zeros((3, n * (n + 1) // 2), complex)\n",
    "    for a, p in zip(trck, positions.T - 1j):\n",
    "        zhpr(n, -2, p, a, 1, 0, 0, 1)\n",
    "        # does  a  ->  a + alpha x x^H\n",
    "        # parameters: n             --  matrix dimension\n",
    "        #             alpha         --  real scalar\n",
    "        #             x             --  complex vector\n",
    "        #             ap            --  packed Hermitian n x n matrix a\n",
    "        #                               i.e. an n(n+1)/2 vector\n",
    "        #             incx          --  x stride\n",
    "        #             offx          --  x offset\n",
    "        #             lower         --  is storage of ap lower or upper\n",
    "        #             overwrite_ap  --  whether to change a inplace\n",
    "    # as a by-product we get positions positions^T:\n",
    "    ppT = trck.real.sum(0) + 6\n",
    "    # now compute matrix of squared distances ...\n",
    "    # ... using (A-B)^2 = A^2 + B^2 - 2AB\n",
    "    # ... that and the outer sum X (+) X.T equals X ones^T + ones X^T\n",
    "    dspr2(n, -0.5, ppT[np.r_[0, 2:n+1].cumsum()], np.ones((n,)), ppT,\n",
    "          1, 0, 1, 0, 0, 1)\n",
    "    # does  a  ->  a + alpha x y^T + alpha y x^T    in packed symmetric storage\n",
    "    # scale anti-symmetric differences by distance^-3\n",
    "#     np.divide(trck.imag, ppT*np.sqrt(ppT), where=ppT.astype(bool),\n",
    "#               out=trck.imag)\n",
    "    np.divide(trck.imag, ((ppT**2 + E**2))**(3/4), where=ppT.astype(bool),\n",
    "          out=trck.imag)\n",
    "    # it remains to scale by massess and sum\n",
    "    # this can be done by matrix multiplication with the vector of massesses ...\n",
    "    # ... unfortunately because we need anti-symmetry we need to work\n",
    "    # with Hermitian storage, i.e. complex numbers, even though the actual\n",
    "    # computation is only real:\n",
    "    out = np.zeros((3, n), complex)\n",
    "    for a, o in zip(trck, out):\n",
    "        zhpmv(n, 0.5, a, G * masses * -1j, 1, 0, 0, o, 1, 0, 0, 1)\n",
    "        # multiplies packed Hermitian matrix by vector\n",
    "    return out.real.T"
   ]
  },
  {
   "cell_type": "code",
   "execution_count": 17,
   "id": "584201d2",
   "metadata": {},
   "outputs": [],
   "source": [
    "from numpy.linalg import norm\n",
    "\n",
    "def acc3(positions, masses, G, E):\n",
    "    '''Params:\n",
    "    - positions: numpy array of size (n,3)\n",
    "    - masses: numpy array of size (n,)\n",
    "    '''\n",
    "    mass_matrix = masses.reshape((1, -1, 1))*masses.reshape((-1, 1, 1))\n",
    "    disps = positions.reshape((1, -1, 3)) - positions.reshape((-1, 1, 3)) # displacements\n",
    "    dists = norm(disps, axis=2)\n",
    "    dists[dists == 0] = 1 # Avoid divide by zero warnings\n",
    "    forces = G*disps*mass_matrix/np.expand_dims(dists, 2)**3\n",
    "    return forces.sum(axis=1)/masses.reshape(-1, 1)"
   ]
  },
  {
   "cell_type": "markdown",
   "id": "b519fe73",
   "metadata": {},
   "source": [
    "## Performance Comparison"
   ]
  },
  {
   "cell_type": "code",
   "execution_count": 18,
   "id": "f0daf234",
   "metadata": {},
   "outputs": [
    {
     "name": "stdout",
     "output_type": "stream",
     "text": [
      "144 ms ± 12.1 ms per loop (mean ± std. dev. of 7 runs, 10 loops each)\n"
     ]
    }
   ],
   "source": [
    "%timeit acc1(positions, masses, G, E)"
   ]
  },
  {
   "cell_type": "code",
   "execution_count": 19,
   "id": "29c07e6e",
   "metadata": {},
   "outputs": [
    {
     "name": "stdout",
     "output_type": "stream",
     "text": [
      "137 ms ± 16.1 ms per loop (mean ± std. dev. of 7 runs, 10 loops each)\n"
     ]
    }
   ],
   "source": [
    "%timeit acc1blas(positions, masses, G, E)"
   ]
  },
  {
   "cell_type": "code",
   "execution_count": 20,
   "id": "ab276321",
   "metadata": {},
   "outputs": [
    {
     "name": "stdout",
     "output_type": "stream",
     "text": [
      "94.7 ms ± 5.16 ms per loop (mean ± std. dev. of 7 runs, 1 loop each)\n"
     ]
    }
   ],
   "source": [
    "%timeit acc1numba(positions, masses, G, E)"
   ]
  },
  {
   "cell_type": "code",
   "execution_count": 21,
   "id": "f7e43edd",
   "metadata": {},
   "outputs": [
    {
     "name": "stdout",
     "output_type": "stream",
     "text": [
      "48.4 ms ± 1.36 ms per loop (mean ± std. dev. of 7 runs, 10 loops each)\n"
     ]
    }
   ],
   "source": [
    "%timeit acc2(positions, masses, G, E)"
   ]
  },
  {
   "cell_type": "code",
   "execution_count": 22,
   "id": "5e349b41",
   "metadata": {
    "scrolled": true
   },
   "outputs": [],
   "source": [
    "# %timeit acc3(positions, masses, G, E)"
   ]
  },
  {
   "cell_type": "code",
   "execution_count": 23,
   "id": "4a01e0c3",
   "metadata": {},
   "outputs": [],
   "source": [
    "accelerations1 = acc1(positions, masses, G, E)\n",
    "accelerations12 = acc1blas(positions, masses, G, E)\n",
    "accelerations2 = acc2(positions, masses, G, E)\n",
    "# accelerations3 = acc3(positions, masses, G, E)"
   ]
  },
  {
   "cell_type": "code",
   "execution_count": 24,
   "id": "68188951",
   "metadata": {},
   "outputs": [
    {
     "data": {
      "text/plain": [
       "array([[-3.03103216e+15, -1.06975333e+15,  8.62163952e+15],\n",
       "       [ 8.99841482e+14, -2.48331724e+15,  5.45370309e+15],\n",
       "       [-5.08439319e+15,  3.99895276e+15, -5.40219357e+15],\n",
       "       ...,\n",
       "       [ 1.06171393e+15,  2.45628480e+14, -7.27913392e+15],\n",
       "       [ 3.23906418e+15,  5.80757060e+15, -1.68596661e+15],\n",
       "       [ 4.43125479e+15, -6.25215298e+15,  3.46771704e+14]])"
      ]
     },
     "execution_count": 24,
     "metadata": {},
     "output_type": "execute_result"
    }
   ],
   "source": [
    "accelerations1"
   ]
  },
  {
   "cell_type": "code",
   "execution_count": 25,
   "id": "468d7dc8",
   "metadata": {},
   "outputs": [
    {
     "data": {
      "text/plain": [
       "array([[-3.03103216e+15, -1.06975333e+15,  8.62163952e+15],\n",
       "       [ 8.99841482e+14, -2.48331724e+15,  5.45370309e+15],\n",
       "       [-5.08439319e+15,  3.99895276e+15, -5.40219357e+15],\n",
       "       ...,\n",
       "       [ 1.06171393e+15,  2.45628480e+14, -7.27913392e+15],\n",
       "       [ 3.23906418e+15,  5.80757060e+15, -1.68596661e+15],\n",
       "       [ 4.43125479e+15, -6.25215298e+15,  3.46771704e+14]])"
      ]
     },
     "execution_count": 25,
     "metadata": {},
     "output_type": "execute_result"
    }
   ],
   "source": [
    "accelerations12"
   ]
  },
  {
   "cell_type": "code",
   "execution_count": 26,
   "id": "fde19f86",
   "metadata": {},
   "outputs": [
    {
     "data": {
      "text/plain": [
       "array([[-3.03103215e+15, -1.06975328e+15,  8.62163950e+15],\n",
       "       [ 8.99841485e+14, -2.48331724e+15,  5.45370309e+15],\n",
       "       [-5.08439319e+15,  3.99895275e+15, -5.40219357e+15],\n",
       "       ...,\n",
       "       [ 1.06171393e+15,  2.45628476e+14, -7.27913391e+15],\n",
       "       [ 3.23906418e+15,  5.80757060e+15, -1.68596661e+15],\n",
       "       [ 4.43125477e+15, -6.25215297e+15,  3.46771704e+14]])"
      ]
     },
     "execution_count": 26,
     "metadata": {},
     "output_type": "execute_result"
    }
   ],
   "source": [
    "accelerations2"
   ]
  },
  {
   "cell_type": "code",
   "execution_count": 27,
   "id": "6f55db70",
   "metadata": {},
   "outputs": [],
   "source": [
    "# accelerations3"
   ]
  },
  {
   "cell_type": "markdown",
   "id": "bfe58a82",
   "metadata": {},
   "source": [
    "## Sanity Test"
   ]
  },
  {
   "cell_type": "code",
   "execution_count": 28,
   "id": "efb8cce0",
   "metadata": {},
   "outputs": [],
   "source": [
    "E = 1 * (10**2)                 # Softening factor larger here\n",
    "masses = np.array([mE, 1])      # Earth and a 1kg body\n",
    "positions = np.array([\n",
    "    [0, 0, 0],                  # Earth\n",
    "    [rE, 0, 0]                  # Body on Earth surface\n",
    "])"
   ]
  },
  {
   "cell_type": "code",
   "execution_count": 29,
   "id": "27c3373a",
   "metadata": {},
   "outputs": [
    {
     "data": {
      "text/plain": [
       "9.820302293385645"
      ]
     },
     "execution_count": 29,
     "metadata": {},
     "output_type": "execute_result"
    }
   ],
   "source": [
    "(G * mE) / rE**2"
   ]
  },
  {
   "cell_type": "code",
   "execution_count": 30,
   "id": "50592000",
   "metadata": {},
   "outputs": [],
   "source": [
    "accelerations1 = acc1(positions, masses, G, E)\n",
    "accelerations2 = acc2(positions, masses, G, E)\n",
    "# accelerations3 = acc3(positions, masses, G, E)"
   ]
  },
  {
   "cell_type": "code",
   "execution_count": 31,
   "id": "35952131",
   "metadata": {},
   "outputs": [
    {
     "data": {
      "text/plain": [
       "array([[ 1.64433580e-24,  0.00000000e+00,  0.00000000e+00],\n",
       "       [-9.82030229e+00,  0.00000000e+00,  0.00000000e+00]])"
      ]
     },
     "execution_count": 31,
     "metadata": {},
     "output_type": "execute_result"
    }
   ],
   "source": [
    "accelerations1"
   ]
  },
  {
   "cell_type": "code",
   "execution_count": 32,
   "id": "0ec0189c",
   "metadata": {},
   "outputs": [
    {
     "data": {
      "text/plain": [
       "array([[ 1.64433580e-24,  0.00000000e+00,  0.00000000e+00],\n",
       "       [-9.82030229e+00,  0.00000000e+00,  0.00000000e+00]])"
      ]
     },
     "execution_count": 32,
     "metadata": {},
     "output_type": "execute_result"
    }
   ],
   "source": [
    "accelerations2"
   ]
  },
  {
   "cell_type": "code",
   "execution_count": 33,
   "id": "72afea09",
   "metadata": {},
   "outputs": [],
   "source": [
    "# accelerations3"
   ]
  },
  {
   "cell_type": "markdown",
   "id": "3a0021f3",
   "metadata": {},
   "source": [
    "## References\n",
    "\n",
    "- Nice Model: https://iopscience.iop.org/article/10.1088/0004-637X/716/2/1323\n",
    "- Nvidia Implementation: https://developer.nvidia.com/gpugems/gpugems3/part-v-physics-simulation/chapter-31-fast-n-body-simulation-cuda\n",
    "- Python N Body Implementation: https://github.com/pmocz/nbody-python/blob/master/nbody.py\n",
    "- acc2: https://stackoverflow.com/a/52564537"
   ]
  }
 ],
 "metadata": {
  "kernelspec": {
   "display_name": "Python 3 (ipykernel)",
   "language": "python",
   "name": "python3"
  },
  "language_info": {
   "codemirror_mode": {
    "name": "ipython",
    "version": 3
   },
   "file_extension": ".py",
   "mimetype": "text/x-python",
   "name": "python",
   "nbconvert_exporter": "python",
   "pygments_lexer": "ipython3",
   "version": "3.9.16"
  }
 },
 "nbformat": 4,
 "nbformat_minor": 5
}
